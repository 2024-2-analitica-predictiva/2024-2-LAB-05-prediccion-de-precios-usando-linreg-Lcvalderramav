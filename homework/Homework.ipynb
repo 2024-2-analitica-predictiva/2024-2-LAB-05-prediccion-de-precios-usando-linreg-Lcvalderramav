{
  "nbformat": 4,
  "nbformat_minor": 0,
  "metadata": {
    "colab": {
      "provenance": []
    },
    "kernelspec": {
      "name": "python3",
      "display_name": "Python 3"
    },
    "language_info": {
      "name": "python"
    }
  },
  "cells": [
    {
      "cell_type": "code",
      "source": [
        "# Importar librerias\n",
        "\n",
        "import pandas as pd\n",
        "import gzip\n",
        "import json\n",
        "import os\n",
        "import pickle\n",
        "import numpy as np\n",
        "from sklearn.model_selection import GridSearchCV\n",
        "from sklearn.pipeline import Pipeline\n",
        "from sklearn.compose import ColumnTransformer\n",
        "from sklearn.metrics import r2_score, mean_squared_error, mean_absolute_error,median_absolute_error\n",
        "from sklearn.preprocessing import MinMaxScaler\n",
        "from sklearn.preprocessing import StandardScaler\n",
        "from sklearn.feature_selection import SelectKBest, f_regression\n",
        "from sklearn.pipeline import Pipeline\n",
        "from sklearn.compose import ColumnTransformer\n",
        "from sklearn.preprocessing import OneHotEncoder, MinMaxScaler\n",
        "from sklearn.linear_model import LinearRegression\n",
        "\n",
        "\n",
        "\n",
        "\n"
      ],
      "metadata": {
        "id": "eWbR0FtevfED"
      },
      "execution_count": 19,
      "outputs": []
    },
    {
      "cell_type": "code",
      "execution_count": 4,
      "metadata": {
        "id": "LG0msxXhuqbJ",
        "colab": {
          "base_uri": "https://localhost:8080/"
        },
        "outputId": "ae1ebdb4-65b4-4c6b-8d12-af4c1dbb6c26"
      },
      "outputs": [
        {
          "output_type": "stream",
          "name": "stdout",
          "text": [
            "   Selling_Price  Present_Price  Driven_kms Fuel_Type Selling_type  \\\n",
            "0           7.40          8.500       15059    Petrol       Dealer   \n",
            "1           4.00          4.600       30000    Petrol       Dealer   \n",
            "2           0.50          0.826        6000    Petrol   Individual   \n",
            "3           3.15          4.430       15000    Petrol       Dealer   \n",
            "4           1.25          1.500       15000    Petrol   Individual   \n",
            "\n",
            "  Transmission  Owner  Age  \n",
            "0    Automatic      0    5  \n",
            "1       Manual      0    8  \n",
            "2       Manual      0   10  \n",
            "3       Manual      0    5  \n",
            "4       Manual      0    8  \n"
          ]
        }
      ],
      "source": [
        "# Paso 1\n",
        "\n",
        "train = pd.read_csv(\"/content/files/input/train_data.csv.zip\",index_col=False,compression=\"zip\")\n",
        "test = pd.read_csv(\"/content/files/input/test_data.csv.zip\",index_col=False,compression=\"zip\")\n",
        "\n",
        "train['Age'] = 2021 - train['Year']\n",
        "test['Age'] = 2021 - test['Year']\n",
        "\n",
        "train.drop(columns=['Year', 'Car_Name'], inplace=True)\n",
        "test.drop(columns=['Year', 'Car_Name'], inplace=True)\n",
        "\n",
        "print(train.head())\n",
        "\n",
        "\n"
      ]
    },
    {
      "cell_type": "code",
      "source": [
        "# Paso 2.\n",
        "\n",
        "x_train = train.drop(columns=['Selling_Price'])\n",
        "y_train = train['Selling_Price']\n",
        "\n",
        "x_test = test.drop(columns=['Selling_Price'])\n",
        "y_test = test['Selling_Price']\n",
        "\n",
        "# Mostrar un vistazo de las dimensiones de los datasets divididos\n",
        "print(f\"x_train shape: {x_train.shape}\")\n",
        "print(f\"y_train shape: {y_train.shape}\")\n",
        "print(f\"x_test shape: {x_test.shape}\")\n",
        "print(f\"y_test shape: {y_test.shape}\")\n"
      ],
      "metadata": {
        "id": "4luvNkJrvEZH",
        "colab": {
          "base_uri": "https://localhost:8080/"
        },
        "outputId": "3bf77a2a-644b-4757-fc1f-e91c5ca05a8b"
      },
      "execution_count": 6,
      "outputs": [
        {
          "output_type": "stream",
          "name": "stdout",
          "text": [
            "x_train shape: (211, 7)\n",
            "y_train shape: (211,)\n",
            "x_test shape: (90, 7)\n",
            "y_test shape: (90,)\n"
          ]
        }
      ]
    },
    {
      "cell_type": "code",
      "source": [
        "# Paso 3\n",
        "categorical_features = ['Fuel_Type', 'Selling_type', 'Transmission']\n",
        "numeric_features= [col for col in x_train.columns if col not in categorical_features]\n",
        "\n",
        "preprocessor = ColumnTransformer(\n",
        "    transformers=[\n",
        "        ('cat', OneHotEncoder(), categorical_features),\n",
        "        ('num', MinMaxScaler(), numeric_features)\n",
        "    ]\n",
        ")\n",
        "\n",
        "pipeline = Pipeline(\n",
        "    steps=[\n",
        "        ('preprocessor', preprocessor),\n",
        "        ('feature_selector', SelectKBest(score_func=f_regression, k='all')),\n",
        "        ('regressor', LinearRegression())\n",
        "    ]\n",
        ")\n"
      ],
      "metadata": {
        "id": "wBhLKOylxyRW"
      },
      "execution_count": 32,
      "outputs": []
    },
    {
      "cell_type": "code",
      "source": [
        "# Paso 4.\n",
        "param_grid = {\n",
        "    'feature_selector__k': range(1, 15),\n",
        "    'regressor__fit_intercept': [True, False],\n",
        "}\n",
        "\n",
        "model = GridSearchCV(\n",
        "    estimator=pipeline,\n",
        "    param_grid=param_grid,\n",
        "    cv=10,\n",
        "    scoring=\"neg_mean_absolute_error\",\n",
        "    n_jobs=-1,\n",
        "    refit=True\n",
        ")\n",
        "\n",
        "model.fit(x_train, y_train)\n",
        "\n",
        "print(f\"Mejores hiperparámetros: {model.best_params_}\")\n",
        "\n",
        "\n"
      ],
      "metadata": {
        "id": "Ak6XnivEx1BH",
        "colab": {
          "base_uri": "https://localhost:8080/"
        },
        "outputId": "5de49e2b-b40f-4986-be34-46e4a10caca5"
      },
      "execution_count": 35,
      "outputs": [
        {
          "output_type": "stream",
          "name": "stdout",
          "text": [
            "Mejores hiperparámetros: {'feature_selector__k': 11, 'regressor__fit_intercept': False}\n"
          ]
        }
      ]
    },
    {
      "cell_type": "code",
      "source": [
        "# Paso 5.\n",
        "models_dir = '/content/files/models'\n",
        "os.makedirs(models_dir, exist_ok = True)\n",
        "\n",
        "model_path = \"/content/files/models/model.pkl.gz\"\n",
        "\n",
        "with gzip.open(model_path, \"wb\") as model_file:\n",
        "    pickle.dump(model, model_file)\n",
        "\n",
        "print(f\"Modelo guardado en '{model_path}'\")\n",
        "\n"
      ],
      "metadata": {
        "colab": {
          "base_uri": "https://localhost:8080/"
        },
        "id": "q7HMxs8Ex2eV",
        "outputId": "a32469f2-ddcb-4553-f661-a2bec9ca47f4"
      },
      "execution_count": 36,
      "outputs": [
        {
          "output_type": "stream",
          "name": "stdout",
          "text": [
            "Modelo guardado en '/content/files/models/model.pkl.gz'\n"
          ]
        }
      ]
    },
    {
      "cell_type": "code",
      "source": [
        "# Paso 6\n",
        "import json\n",
        "import os\n",
        "from sklearn.metrics import r2_score, mean_squared_error, mean_absolute_error,median_absolute_error\n",
        "\n",
        "best_model=model.best_estimator_\n",
        "# Calcular métricas para el conjunto de entrenamiento\n",
        "y_train_pred = best_model.predict(x_train)\n",
        "train_metrics = {\n",
        "    'type': 'metrics',\n",
        "    'dataset': 'train',\n",
        "    'r2': r2_score(y_train, y_train_pred),\n",
        "    'mse': mean_squared_error(y_train, y_train_pred),\n",
        "    'mad': median_absolute_error(y_train, y_train_pred),\n",
        "}\n",
        "\n",
        "# Calcular métricas para el conjunto de prueba\n",
        "y_test_pred = best_model.predict(x_test)\n",
        "test_metrics = {\n",
        "    'type': 'metrics',\n",
        "    'dataset': 'test',\n",
        "    'r2': r2_score(y_test, y_test_pred),\n",
        "    'mse': mean_squared_error(y_test, y_test_pred),\n",
        "    'mad': median_absolute_error(y_test, y_test_pred),\n",
        "}\n",
        "\n",
        "output_path = \"/content/files/output/metrics.json\"\n",
        "os.makedirs(os.path.dirname(output_path), exist_ok=True)\n",
        "\n",
        "with open(output_path, 'w') as f:\n",
        "    f.write(json.dumps(train_metrics) + '\\n')\n",
        "    f.write(json.dumps(test_metrics) + '\\n')\n",
        "\n",
        "print(f\"Métricas guardadas en: {output_path}\")\n",
        "\n",
        "\n",
        "\n"
      ],
      "metadata": {
        "id": "IthJ6AGax3_d",
        "colab": {
          "base_uri": "https://localhost:8080/"
        },
        "outputId": "83f0a78d-be0b-414d-fa8a-08a32cf1a0e5"
      },
      "execution_count": 25,
      "outputs": [
        {
          "output_type": "stream",
          "name": "stdout",
          "text": [
            "Métricas guardadas en: /content/files/output/metrics.json\n"
          ]
        }
      ]
    },
    {
      "cell_type": "code",
      "source": [],
      "metadata": {
        "id": "m3Nx_HdLGEZa"
      },
      "execution_count": null,
      "outputs": []
    },
    {
      "cell_type": "code",
      "source": [],
      "metadata": {
        "id": "cJlaq15ddPnm"
      },
      "execution_count": null,
      "outputs": []
    },
    {
      "cell_type": "code",
      "source": [
        "model.score(x_train, y_train) < SCORES[0]"
      ],
      "metadata": {
        "colab": {
          "base_uri": "https://localhost:8080/"
        },
        "id": "uwRcMc5AdT22",
        "outputId": "ef5d8a2d-9ac0-4474-dac6-eabc66a98bcd"
      },
      "execution_count": 40,
      "outputs": [
        {
          "output_type": "execute_result",
          "data": {
            "text/plain": [
              "False"
            ]
          },
          "metadata": {},
          "execution_count": 40
        }
      ]
    },
    {
      "cell_type": "code",
      "source": [],
      "metadata": {
        "id": "HNSqxglfdoHd"
      },
      "execution_count": null,
      "outputs": []
    }
  ]
}